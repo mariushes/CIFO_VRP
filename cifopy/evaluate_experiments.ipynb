{
 "metadata": {
  "language_info": {
   "codemirror_mode": {
    "name": "ipython",
    "version": 3
   },
   "file_extension": ".py",
   "mimetype": "text/x-python",
   "name": "python",
   "nbconvert_exporter": "python",
   "pygments_lexer": "ipython3",
   "version": "3.7.10"
  },
  "orig_nbformat": 2,
  "kernelspec": {
   "name": "python3710jvsc74a57bd06d5b7f245a34cbd5d5557e4c50d7787fc09590ea3a2b69ac9f45cafcc5feeed3",
   "display_name": "Python 3.7.10 64-bit ('DataViz_PortugalCovidDashboard': conda)"
  }
 },
 "nbformat": 4,
 "nbformat_minor": 2,
 "cells": [
  {
   "cell_type": "code",
   "execution_count": 9,
   "metadata": {},
   "outputs": [],
   "source": [
    "import pandas as pd\n",
    "import os"
   ]
  },
  {
   "cell_type": "code",
   "execution_count": null,
   "metadata": {},
   "outputs": [],
   "source": [
    "# to change in the setup: selection, crossover, mutation, elitism (always use elitism), prem (only fps)\n",
    "# for each crossover we use fixed co_p (around 0.9)\n",
    "# for each mutation we use fixed mu_p (e.g. swap 0.03, inversion 0.01)\n",
    "# each run N times with M generations L individuals\n",
    "# N = 50, M = 2000, L = 80\n",
    "# make list of N final best fitnesses of each setup\n",
    "# compare average fitness,\n",
    "\n",
    "# treat multi objective fitness as an additional problem\n",
    "# use best setting of first part"
   ]
  },
  {
   "cell_type": "code",
   "execution_count": 19,
   "metadata": {},
   "outputs": [
    {
     "output_type": "stream",
     "name": "stdout",
     "text": [
      "['run-1621944313.csv']\n['run-1621944337.csv', 'run-1621944346.csv']\n"
     ]
    },
    {
     "output_type": "display_data",
     "data": {
      "text/plain": "       0                                                  1     2     3   4\n0      1  [27, 7, 22, 30, 57, 45, 51, 29, 44, 8, 39, 35,...  2611  2721 NaN\n1      1  [34, 57, 18, 0, 9, 70, 40, 7, 17, 66, 74, 56, ...  2534  2418 NaN\n2      1  [33, 50, 10, 43, 18, 65, 41, 73, 4, 62, 55, 15...  2492  2923 NaN\n3      1  [22, 46, 72, 25, 70, 12, 74, 50, 14, 3, 69, 48...  2706  3170 NaN\n4      1  [3, 69, 61, 37, 63, 44, 54, 46, 24, 12, 9, 25,...  2591  2551 NaN\n..   ...                                                ...   ...   ...  ..\n995  100  [33, 50, 18, 38, 9, 26, 29, 7, 75, 25, 14, 72,...  2169  1703 NaN\n996  100  [33, 50, 18, 38, 9, 26, 29, 7, 12, 25, 14, 72,...  2191  1835 NaN\n997  100  [33, 50, 18, 38, 9, 26, 29, 7, 75, 25, 14, 72,...  2152  1645 NaN\n998  100  [33, 50, 18, 40, 9, 26, 29, 7, 75, 25, 14, 72,...  2100  1690 NaN\n999  100  [33, 50, 18, 38, 9, 26, 29, 7, 75, 25, 14, 72,...  2119  1651 NaN\n\n[1000 rows x 5 columns]",
      "text/html": "<div>\n<style scoped>\n    .dataframe tbody tr th:only-of-type {\n        vertical-align: middle;\n    }\n\n    .dataframe tbody tr th {\n        vertical-align: top;\n    }\n\n    .dataframe thead th {\n        text-align: right;\n    }\n</style>\n<table border=\"1\" class=\"dataframe\">\n  <thead>\n    <tr style=\"text-align: right;\">\n      <th></th>\n      <th>0</th>\n      <th>1</th>\n      <th>2</th>\n      <th>3</th>\n      <th>4</th>\n    </tr>\n  </thead>\n  <tbody>\n    <tr>\n      <th>0</th>\n      <td>1</td>\n      <td>[27, 7, 22, 30, 57, 45, 51, 29, 44, 8, 39, 35,...</td>\n      <td>2611</td>\n      <td>2721</td>\n      <td>NaN</td>\n    </tr>\n    <tr>\n      <th>1</th>\n      <td>1</td>\n      <td>[34, 57, 18, 0, 9, 70, 40, 7, 17, 66, 74, 56, ...</td>\n      <td>2534</td>\n      <td>2418</td>\n      <td>NaN</td>\n    </tr>\n    <tr>\n      <th>2</th>\n      <td>1</td>\n      <td>[33, 50, 10, 43, 18, 65, 41, 73, 4, 62, 55, 15...</td>\n      <td>2492</td>\n      <td>2923</td>\n      <td>NaN</td>\n    </tr>\n    <tr>\n      <th>3</th>\n      <td>1</td>\n      <td>[22, 46, 72, 25, 70, 12, 74, 50, 14, 3, 69, 48...</td>\n      <td>2706</td>\n      <td>3170</td>\n      <td>NaN</td>\n    </tr>\n    <tr>\n      <th>4</th>\n      <td>1</td>\n      <td>[3, 69, 61, 37, 63, 44, 54, 46, 24, 12, 9, 25,...</td>\n      <td>2591</td>\n      <td>2551</td>\n      <td>NaN</td>\n    </tr>\n    <tr>\n      <th>...</th>\n      <td>...</td>\n      <td>...</td>\n      <td>...</td>\n      <td>...</td>\n      <td>...</td>\n    </tr>\n    <tr>\n      <th>995</th>\n      <td>100</td>\n      <td>[33, 50, 18, 38, 9, 26, 29, 7, 75, 25, 14, 72,...</td>\n      <td>2169</td>\n      <td>1703</td>\n      <td>NaN</td>\n    </tr>\n    <tr>\n      <th>996</th>\n      <td>100</td>\n      <td>[33, 50, 18, 38, 9, 26, 29, 7, 12, 25, 14, 72,...</td>\n      <td>2191</td>\n      <td>1835</td>\n      <td>NaN</td>\n    </tr>\n    <tr>\n      <th>997</th>\n      <td>100</td>\n      <td>[33, 50, 18, 38, 9, 26, 29, 7, 75, 25, 14, 72,...</td>\n      <td>2152</td>\n      <td>1645</td>\n      <td>NaN</td>\n    </tr>\n    <tr>\n      <th>998</th>\n      <td>100</td>\n      <td>[33, 50, 18, 40, 9, 26, 29, 7, 75, 25, 14, 72,...</td>\n      <td>2100</td>\n      <td>1690</td>\n      <td>NaN</td>\n    </tr>\n    <tr>\n      <th>999</th>\n      <td>100</td>\n      <td>[33, 50, 18, 38, 9, 26, 29, 7, 75, 25, 14, 72,...</td>\n      <td>2119</td>\n      <td>1651</td>\n      <td>NaN</td>\n    </tr>\n  </tbody>\n</table>\n<p>1000 rows × 5 columns</p>\n</div>"
     },
     "metadata": {}
    },
    {
     "output_type": "display_data",
     "data": {
      "text/plain": "       0                                                  1     2     3   4\n0      1  [28, 11, 50, 67, 48, 49, 13, 36, 69, 8, 12, 2,...  2500  2326 NaN\n1      1  [71, 33, 66, 38, 35, 73, 42, 74, 37, 70, 75, 6...  2540  2210 NaN\n2      1  [49, 32, 54, 10, 55, 57, 50, 9, 25, 60, 33, 26...  2664  2261 NaN\n3      1  [8, 18, 24, 10, 52, 5, 45, 73, 9, 37, 19, 4, 2...  2512  2893 NaN\n4      1  [51, 33, 67, 74, 10, 75, 24, 69, 71, 54, 30, 5...  2603  2958 NaN\n..   ...                                                ...   ...   ...  ..\n995  100  [47, 7, 66, 51, 16, 73, 74, 5, 26, 70, 17, 43,...  2181  1834 NaN\n996  100  [47, 7, 66, 51, 16, 73, 74, 5, 26, 70, 17, 43,...  2181  1834 NaN\n997  100  [36, 7, 66, 51, 16, 73, 74, 5, 37, 70, 38, 43,...  2270  2213 NaN\n998  100  [36, 24, 66, 51, 16, 73, 74, 5, 37, 70, 38, 43...  2258  2123 NaN\n999  100  [36, 7, 66, 51, 16, 73, 74, 5, 37, 70, 38, 43,...  2302  2103 NaN\n\n[1000 rows x 5 columns]",
      "text/html": "<div>\n<style scoped>\n    .dataframe tbody tr th:only-of-type {\n        vertical-align: middle;\n    }\n\n    .dataframe tbody tr th {\n        vertical-align: top;\n    }\n\n    .dataframe thead th {\n        text-align: right;\n    }\n</style>\n<table border=\"1\" class=\"dataframe\">\n  <thead>\n    <tr style=\"text-align: right;\">\n      <th></th>\n      <th>0</th>\n      <th>1</th>\n      <th>2</th>\n      <th>3</th>\n      <th>4</th>\n    </tr>\n  </thead>\n  <tbody>\n    <tr>\n      <th>0</th>\n      <td>1</td>\n      <td>[28, 11, 50, 67, 48, 49, 13, 36, 69, 8, 12, 2,...</td>\n      <td>2500</td>\n      <td>2326</td>\n      <td>NaN</td>\n    </tr>\n    <tr>\n      <th>1</th>\n      <td>1</td>\n      <td>[71, 33, 66, 38, 35, 73, 42, 74, 37, 70, 75, 6...</td>\n      <td>2540</td>\n      <td>2210</td>\n      <td>NaN</td>\n    </tr>\n    <tr>\n      <th>2</th>\n      <td>1</td>\n      <td>[49, 32, 54, 10, 55, 57, 50, 9, 25, 60, 33, 26...</td>\n      <td>2664</td>\n      <td>2261</td>\n      <td>NaN</td>\n    </tr>\n    <tr>\n      <th>3</th>\n      <td>1</td>\n      <td>[8, 18, 24, 10, 52, 5, 45, 73, 9, 37, 19, 4, 2...</td>\n      <td>2512</td>\n      <td>2893</td>\n      <td>NaN</td>\n    </tr>\n    <tr>\n      <th>4</th>\n      <td>1</td>\n      <td>[51, 33, 67, 74, 10, 75, 24, 69, 71, 54, 30, 5...</td>\n      <td>2603</td>\n      <td>2958</td>\n      <td>NaN</td>\n    </tr>\n    <tr>\n      <th>...</th>\n      <td>...</td>\n      <td>...</td>\n      <td>...</td>\n      <td>...</td>\n      <td>...</td>\n    </tr>\n    <tr>\n      <th>995</th>\n      <td>100</td>\n      <td>[47, 7, 66, 51, 16, 73, 74, 5, 26, 70, 17, 43,...</td>\n      <td>2181</td>\n      <td>1834</td>\n      <td>NaN</td>\n    </tr>\n    <tr>\n      <th>996</th>\n      <td>100</td>\n      <td>[47, 7, 66, 51, 16, 73, 74, 5, 26, 70, 17, 43,...</td>\n      <td>2181</td>\n      <td>1834</td>\n      <td>NaN</td>\n    </tr>\n    <tr>\n      <th>997</th>\n      <td>100</td>\n      <td>[36, 7, 66, 51, 16, 73, 74, 5, 37, 70, 38, 43,...</td>\n      <td>2270</td>\n      <td>2213</td>\n      <td>NaN</td>\n    </tr>\n    <tr>\n      <th>998</th>\n      <td>100</td>\n      <td>[36, 24, 66, 51, 16, 73, 74, 5, 37, 70, 38, 43...</td>\n      <td>2258</td>\n      <td>2123</td>\n      <td>NaN</td>\n    </tr>\n    <tr>\n      <th>999</th>\n      <td>100</td>\n      <td>[36, 7, 66, 51, 16, 73, 74, 5, 37, 70, 38, 43,...</td>\n      <td>2302</td>\n      <td>2103</td>\n      <td>NaN</td>\n    </tr>\n  </tbody>\n</table>\n<p>1000 rows × 5 columns</p>\n</div>"
     },
     "metadata": {}
    }
   ],
   "source": [
    "runs_path = \"../runs/\"\n",
    "dirs = os.listdir(runs_path)\n",
    "dirs.pop(0)\n",
    "for dir in dirs:\n",
    "    if dir == \".DS_Store\":\n",
    "        continue\n",
    "    runs = os.listdir(runs_path + dir)\n",
    "    print(runs)\n",
    "\n",
    "\n",
    "\n",
    "# we want to evaluate all runs of one setup\n",
    "dir = dirs[1]\n",
    "runs = os.listdir(runs_path + dir)\n",
    "best_fitness_list = []\n",
    "for run in runs:\n",
    "    df = pd.read_csv(runs_path + dir + \"/\" +run, header=None)\n",
    "    # find best fitness of last generation\n",
    "    # make list of N final best fitnesses of each setup\n",
    "    # compare average fitness,\n",
    "    max = None\n",
    "    best_fitness_list.append(max)\n",
    "\n",
    "\n",
    "    # plot the best fitness across generations\n",
    "\n",
    "\n",
    "    # plot all individuals fitness for each generation\n",
    "\n",
    "\n",
    "    display(df)"
   ]
  },
  {
   "cell_type": "code",
   "execution_count": 8,
   "metadata": {},
   "outputs": [
    {
     "output_type": "display_data",
     "data": {
      "text/plain": "       0                                                  1     2\n0      1  [4, 53, 35, 30, 54, 72, 18, 11, 14, 17, 3, 20,...  2798\n1      1  [62, 0, 69, 7, 51, 73, 57, 39, 12, 23, 11, 10,...  2536\n2      1  [0, 19, 58, 2, 33, 34, 64, 30, 8, 32, 60, 59, ...  2626\n3      1  [6, 26, 36, 37, 29, 28, 69, 73, 32, 70, 62, 20...  2598\n4      1  [44, 0, 75, 69, 55, 66, 50, 28, 40, 52, 26, 17...  2680\n..   ...                                                ...   ...\n995  100  [58, 10, 1, 6, 28, 45, 67, 14, 33, 24, 62, 49,...  2253\n996  100  [58, 10, 1, 6, 28, 45, 7, 67, 33, 24, 62, 49, ...  2223\n997  100  [58, 10, 1, 6, 28, 72, 7, 67, 33, 24, 62, 49, ...  2275\n998  100  [58, 10, 1, 6, 28, 45, 67, 14, 33, 24, 62, 49,...  2256\n999  100  [58, 10, 1, 6, 28, 45, 7, 67, 33, 24, 62, 49, ...  2285\n\n[1000 rows x 3 columns]",
      "text/html": "<div>\n<style scoped>\n    .dataframe tbody tr th:only-of-type {\n        vertical-align: middle;\n    }\n\n    .dataframe tbody tr th {\n        vertical-align: top;\n    }\n\n    .dataframe thead th {\n        text-align: right;\n    }\n</style>\n<table border=\"1\" class=\"dataframe\">\n  <thead>\n    <tr style=\"text-align: right;\">\n      <th></th>\n      <th>0</th>\n      <th>1</th>\n      <th>2</th>\n    </tr>\n  </thead>\n  <tbody>\n    <tr>\n      <th>0</th>\n      <td>1</td>\n      <td>[4, 53, 35, 30, 54, 72, 18, 11, 14, 17, 3, 20,...</td>\n      <td>2798</td>\n    </tr>\n    <tr>\n      <th>1</th>\n      <td>1</td>\n      <td>[62, 0, 69, 7, 51, 73, 57, 39, 12, 23, 11, 10,...</td>\n      <td>2536</td>\n    </tr>\n    <tr>\n      <th>2</th>\n      <td>1</td>\n      <td>[0, 19, 58, 2, 33, 34, 64, 30, 8, 32, 60, 59, ...</td>\n      <td>2626</td>\n    </tr>\n    <tr>\n      <th>3</th>\n      <td>1</td>\n      <td>[6, 26, 36, 37, 29, 28, 69, 73, 32, 70, 62, 20...</td>\n      <td>2598</td>\n    </tr>\n    <tr>\n      <th>4</th>\n      <td>1</td>\n      <td>[44, 0, 75, 69, 55, 66, 50, 28, 40, 52, 26, 17...</td>\n      <td>2680</td>\n    </tr>\n    <tr>\n      <th>...</th>\n      <td>...</td>\n      <td>...</td>\n      <td>...</td>\n    </tr>\n    <tr>\n      <th>995</th>\n      <td>100</td>\n      <td>[58, 10, 1, 6, 28, 45, 67, 14, 33, 24, 62, 49,...</td>\n      <td>2253</td>\n    </tr>\n    <tr>\n      <th>996</th>\n      <td>100</td>\n      <td>[58, 10, 1, 6, 28, 45, 7, 67, 33, 24, 62, 49, ...</td>\n      <td>2223</td>\n    </tr>\n    <tr>\n      <th>997</th>\n      <td>100</td>\n      <td>[58, 10, 1, 6, 28, 72, 7, 67, 33, 24, 62, 49, ...</td>\n      <td>2275</td>\n    </tr>\n    <tr>\n      <th>998</th>\n      <td>100</td>\n      <td>[58, 10, 1, 6, 28, 45, 67, 14, 33, 24, 62, 49,...</td>\n      <td>2256</td>\n    </tr>\n    <tr>\n      <th>999</th>\n      <td>100</td>\n      <td>[58, 10, 1, 6, 28, 45, 7, 67, 33, 24, 62, 49, ...</td>\n      <td>2285</td>\n    </tr>\n  </tbody>\n</table>\n<p>1000 rows × 3 columns</p>\n</div>"
     },
     "metadata": {}
    }
   ],
   "source": [
    "df = pd.read_csv(\"../multi_objective_dominant-cycle_co-swap_mutation-100-0.8-0.5-False-False-1621941911.csv\", header=None)\n",
    "display(df)"
   ]
  },
  {
   "cell_type": "code",
   "execution_count": null,
   "metadata": {},
   "outputs": [],
   "source": []
  }
 ]
}